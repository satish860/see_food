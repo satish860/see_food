{
 "cells": [
  {
   "cell_type": "code",
   "execution_count": 3,
   "id": "adolescent-efficiency",
   "metadata": {},
   "outputs": [],
   "source": [
    "import onnxruntime    # to inference ONNX models, we use the ONNX Runtime\n",
    "import onnx"
   ]
  },
  {
   "cell_type": "code",
   "execution_count": 4,
   "id": "selected-investigation",
   "metadata": {},
   "outputs": [],
   "source": [
    "session = onnxruntime.InferenceSession('mobilenet.onnx', None)"
   ]
  },
  {
   "cell_type": "code",
   "execution_count": 5,
   "id": "still-indicator",
   "metadata": {},
   "outputs": [],
   "source": [
    "input_name = session.get_inputs()[0].name  "
   ]
  },
  {
   "cell_type": "code",
   "execution_count": 6,
   "id": "entitled-campus",
   "metadata": {},
   "outputs": [
    {
     "data": {
      "text/plain": [
       "'input.1'"
      ]
     },
     "execution_count": 6,
     "metadata": {},
     "output_type": "execute_result"
    }
   ],
   "source": [
    "input_name"
   ]
  },
  {
   "cell_type": "code",
   "execution_count": 7,
   "id": "virgin-broad",
   "metadata": {},
   "outputs": [],
   "source": [
    "def preprocess(input_data):\n",
    "    # convert the input data into the float32 input\n",
    "    img_data = input_data.astype('float32')\n",
    "\n",
    "    #normalize\n",
    "    mean_vec = np.array([0.485, 0.456, 0.406])\n",
    "    stddev_vec = np.array([0.229, 0.224, 0.225])\n",
    "    norm_img_data = np.zeros(img_data.shape).astype('float32')\n",
    "    for i in range(img_data.shape[0]):\n",
    "        norm_img_data[i,:,:] = (img_data[i,:,:]/255 - mean_vec[i]) / stddev_vec[i]\n",
    "\n",
    "    #add batch channel\n",
    "    norm_img_data = norm_img_data.reshape(1,3,224, 224).astype('float32')\n",
    "    return norm_img_data"
   ]
  },
  {
   "cell_type": "code",
   "execution_count": 8,
   "id": "unlimited-intake",
   "metadata": {},
   "outputs": [],
   "source": [
    "from PIL import Image, ImageDraw, ImageFont, ImageOps"
   ]
  },
  {
   "cell_type": "code",
   "execution_count": 22,
   "id": "coordinated-exercise",
   "metadata": {},
   "outputs": [],
   "source": [
    "image = Image.open('images/caesar_salad/1000016.jpg')"
   ]
  },
  {
   "cell_type": "code",
   "execution_count": 23,
   "id": "sunrise-message",
   "metadata": {},
   "outputs": [],
   "source": [
    "import numpy as np"
   ]
  },
  {
   "cell_type": "code",
   "execution_count": 24,
   "id": "painted-horizontal",
   "metadata": {},
   "outputs": [],
   "source": [
    "imnew=ImageOps.fit(image, (224,224))\n",
    "image_data = np.array(imnew).transpose(2, 0, 1)\n",
    "input_data = preprocess(image_data)"
   ]
  },
  {
   "cell_type": "code",
   "execution_count": 16,
   "id": "authorized-classic",
   "metadata": {},
   "outputs": [],
   "source": [
    "def softmax(x):\n",
    "    x = x.reshape(-1)\n",
    "    e_x = np.exp(x - np.max(x))\n",
    "    return e_x / e_x.sum(axis=0)"
   ]
  },
  {
   "cell_type": "code",
   "execution_count": 17,
   "id": "inner-logistics",
   "metadata": {},
   "outputs": [],
   "source": [
    "def postprocess(result):\n",
    "    return softmax(np.array(result)).tolist()"
   ]
  },
  {
   "cell_type": "code",
   "execution_count": 25,
   "id": "sensitive-ocean",
   "metadata": {},
   "outputs": [],
   "source": [
    "import time\n",
    "start = time.time()\n",
    "raw_result = session.run([], {input_name: input_data})\n",
    "end = time.time()\n",
    "res = postprocess(raw_result)\n",
    "\n",
    "inference_time = np.round((end - start) * 1000, 2)\n",
    "idx = np.argmax(res)"
   ]
  },
  {
   "cell_type": "code",
   "execution_count": 28,
   "id": "competent-junction",
   "metadata": {},
   "outputs": [
    {
     "data": {
      "text/plain": [
       "0.9999892711639404"
      ]
     },
     "execution_count": 28,
     "metadata": {},
     "output_type": "execute_result"
    }
   ],
   "source": [
    "res[idx]"
   ]
  },
  {
   "cell_type": "code",
   "execution_count": null,
   "id": "early-nomination",
   "metadata": {},
   "outputs": [],
   "source": []
  }
 ],
 "metadata": {
  "kernelspec": {
   "display_name": "Python 3",
   "language": "python",
   "name": "python3"
  },
  "language_info": {
   "codemirror_mode": {
    "name": "ipython",
    "version": 3
   },
   "file_extension": ".py",
   "mimetype": "text/x-python",
   "name": "python",
   "nbconvert_exporter": "python",
   "pygments_lexer": "ipython3",
   "version": "3.6.10"
  }
 },
 "nbformat": 4,
 "nbformat_minor": 5
}
