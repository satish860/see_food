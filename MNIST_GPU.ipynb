{
  "nbformat": 4,
  "nbformat_minor": 0,
  "metadata": {
    "colab": {
      "name": "MNIST_GPU.ipynb",
      "provenance": [],
      "mount_file_id": "1TIaqwqvZMCjH_PlhktVBHmnf_Rjxj_sg",
      "authorship_tag": "ABX9TyO+9XY3VwVMSfTR4wb0gXE0",
      "include_colab_link": true
    },
    "kernelspec": {
      "name": "python3",
      "display_name": "Python 3"
    },
    "language_info": {
      "name": "python"
    },
    "accelerator": "GPU"
  },
  "cells": [
    {
      "cell_type": "markdown",
      "metadata": {
        "id": "view-in-github",
        "colab_type": "text"
      },
      "source": [
        "<a href=\"https://colab.research.google.com/github/satish860/see_food/blob/main/MNIST_GPU.ipynb\" target=\"_parent\"><img src=\"https://colab.research.google.com/assets/colab-badge.svg\" alt=\"Open In Colab\"/></a>"
      ]
    },
    {
      "cell_type": "code",
      "metadata": {
        "id": "jyjS_hegl4Rg"
      },
      "source": [
        "import torch\n",
        "from torchvision import datasets,transforms"
      ],
      "execution_count": 2,
      "outputs": []
    },
    {
      "cell_type": "code",
      "metadata": {
        "id": "oeR9UbkBqrZu"
      },
      "source": [
        "train_data = datasets.MNIST('/content/drive/MyDrive/MNIST',download=True,train=True,transform=transforms.ToTensor())"
      ],
      "execution_count": 3,
      "outputs": []
    },
    {
      "cell_type": "code",
      "metadata": {
        "id": "R8YsfbvZq_CR"
      },
      "source": [
        "test_data = datasets.MNIST('/content/drive/MyDrive/MNIST',download=True,train=False,transform=transforms.ToTensor())"
      ],
      "execution_count": 4,
      "outputs": []
    },
    {
      "cell_type": "code",
      "metadata": {
        "id": "omZnkFgwrhog"
      },
      "source": [
        "from torch.utils.data import DataLoader,random_split"
      ],
      "execution_count": 6,
      "outputs": []
    },
    {
      "cell_type": "code",
      "metadata": {
        "id": "bYm5e8v_rv1K"
      },
      "source": [
        "train_ds, val_ds = random_split(train_data,[50000,10000])"
      ],
      "execution_count": 7,
      "outputs": []
    },
    {
      "cell_type": "code",
      "metadata": {
        "id": "ZXuIQ4v_t5wG"
      },
      "source": [
        "batch_size = 64\n",
        "train_dl = DataLoader(train_ds,batch_size=batch_size,shuffle=True)\n",
        "val_dl = DataLoader(val_ds,batch_size=batch_size)"
      ],
      "execution_count": 8,
      "outputs": []
    },
    {
      "cell_type": "markdown",
      "metadata": {
        "id": "8XAZcRTjuiwK"
      },
      "source": [
        "# Define Device to switch between CPU to GPU"
      ]
    },
    {
      "cell_type": "code",
      "metadata": {
        "id": "p0m7o974r3bb"
      },
      "source": [
        "def get_default_device():\n",
        "  if torch.cuda.is_available():\n",
        "    return torch.device('cuda')\n",
        "  return torch.device('cpu')"
      ],
      "execution_count": 9,
      "outputs": []
    },
    {
      "cell_type": "code",
      "metadata": {
        "colab": {
          "base_uri": "https://localhost:8080/"
        },
        "id": "S__lBOcksPcD",
        "outputId": "03edefaf-d3c9-451e-d392-b883e890be75"
      },
      "source": [
        "get_default_device()"
      ],
      "execution_count": 10,
      "outputs": [
        {
          "output_type": "execute_result",
          "data": {
            "text/plain": [
              "device(type='cuda')"
            ]
          },
          "metadata": {
            "tags": []
          },
          "execution_count": 10
        }
      ]
    },
    {
      "cell_type": "code",
      "metadata": {
        "id": "YmeSCjwzsRmD"
      },
      "source": [
        "def to_device(data,device):\n",
        "  if isinstance(data, (list,tuple)):\n",
        "    return [to_device(x, device) for x in data]\n",
        "  return data.to(device)"
      ],
      "execution_count": 12,
      "outputs": []
    },
    {
      "cell_type": "code",
      "metadata": {
        "id": "JM_z0q4ftICq"
      },
      "source": [
        "class DeviceDataLoader():\n",
        "  def __init__(self,dl,device):\n",
        "    self.dl = dl\n",
        "    self.device = device\n",
        "\n",
        "  def __iter__(self):\n",
        "    for xb in self.dl:\n",
        "      yield to_device(xb,self.device)\n",
        "    \n",
        "  def __len__(self):\n",
        "    return len(self.dl)"
      ],
      "execution_count": 13,
      "outputs": []
    },
    {
      "cell_type": "markdown",
      "metadata": {
        "id": "hVPiuLCYuw1v"
      },
      "source": [
        "# Define DataLoader"
      ]
    },
    {
      "cell_type": "code",
      "metadata": {
        "id": "aUrgxFERt37g"
      },
      "source": [
        "train_dl = DeviceDataLoader(train_dl,get_default_device())\n",
        "val_dl = DeviceDataLoader(val_dl,get_default_device())"
      ],
      "execution_count": 14,
      "outputs": []
    },
    {
      "cell_type": "markdown",
      "metadata": {
        "id": "RiAnIRWovHK_"
      },
      "source": [
        "# Define Linear Model for MNIST"
      ]
    },
    {
      "cell_type": "code",
      "metadata": {
        "id": "l6gZFqoivMIQ"
      },
      "source": [
        "import torch.nn as NN"
      ],
      "execution_count": 15,
      "outputs": []
    },
    {
      "cell_type": "code",
      "metadata": {
        "id": "MmDPQkYywLeO"
      },
      "source": [
        "input_size = 784 # 28 * 28 * 1 - Image size of MNIST\n",
        "num_of_classes = 10"
      ],
      "execution_count": 16,
      "outputs": []
    },
    {
      "cell_type": "code",
      "metadata": {
        "id": "KMWWmCcdvjc7"
      },
      "source": [
        "class MNISTLinear(NN.Module):\n",
        "  def __init__(self):\n",
        "    super().__init__()\n",
        "    self.linear= NN.Linear(input_size,num_of_classes)\n",
        "    # self.linear2 = NN.Linear(32,num_of_classes)\n",
        "  \n",
        "  def forward(self,xb):\n",
        "    xb = xb.view(xb.size(0),-1)\n",
        "    return self.linear(xb)"
      ],
      "execution_count": 36,
      "outputs": []
    },
    {
      "cell_type": "code",
      "metadata": {
        "id": "Nsr2psARwo6I"
      },
      "source": [
        "model_test = to_device(MNISTLinear(),get_default_device())"
      ],
      "execution_count": 37,
      "outputs": []
    },
    {
      "cell_type": "code",
      "metadata": {
        "id": "k4dLJf6txe8C"
      },
      "source": [
        "import torch.nn.functional as F"
      ],
      "execution_count": 38,
      "outputs": []
    },
    {
      "cell_type": "code",
      "metadata": {
        "colab": {
          "base_uri": "https://localhost:8080/"
        },
        "id": "rjpS9xMkws5U",
        "outputId": "1c690ca8-5f17-46f7-911e-0a69446d0e6b"
      },
      "source": [
        "for x,y in train_dl:\n",
        "  preds = model_test(x)\n",
        "  probs =F.softmax(preds,dim=1)\n",
        "  _,pred_label = torch.max(probs,dim=1)\n",
        "  print(pred_label)\n",
        "  print(y)\n",
        "  break;"
      ],
      "execution_count": 39,
      "outputs": [
        {
          "output_type": "stream",
          "text": [
            "tensor([7, 5, 3, 1, 6, 3, 3, 7, 3, 3, 0, 3, 3, 0, 0, 3, 3, 3, 0, 3, 0, 3, 7, 3,\n",
            "        0, 7, 0, 0, 7, 9, 3, 3, 3, 0, 6, 3, 7, 3, 7, 6, 3, 3, 7, 7, 3, 3, 3, 3,\n",
            "        0, 3, 7, 7, 3, 3, 0, 0, 7, 7, 0, 7, 3, 3, 3, 0], device='cuda:0')\n",
            "tensor([1, 1, 8, 7, 9, 2, 3, 1, 6, 0, 4, 6, 0, 8, 3, 6, 6, 5, 6, 6, 2, 6, 1, 0,\n",
            "        8, 6, 3, 5, 1, 3, 5, 2, 6, 2, 3, 3, 9, 6, 1, 4, 5, 0, 4, 1, 3, 6, 9, 6,\n",
            "        8, 5, 9, 1, 4, 5, 3, 4, 5, 1, 4, 7, 8, 2, 5, 3], device='cuda:0')\n"
          ],
          "name": "stdout"
        }
      ]
    },
    {
      "cell_type": "markdown",
      "metadata": {
        "id": "zOv3nOuJyiHI"
      },
      "source": [
        "# Define Accuracy"
      ]
    },
    {
      "cell_type": "code",
      "metadata": {
        "id": "ydE9ahIqw6gw"
      },
      "source": [
        "def accuracy(preds,label):\n",
        "  _,pred_label = torch.max(preds,dim=1)\n",
        "  return torch.tensor(torch.sum(pred_label == label).item()/len(label))"
      ],
      "execution_count": 25,
      "outputs": []
    },
    {
      "cell_type": "code",
      "metadata": {
        "colab": {
          "base_uri": "https://localhost:8080/"
        },
        "id": "j_FwcfoBy3mU",
        "outputId": "bed7ca89-1885-4c10-8c88-485ada3962da"
      },
      "source": [
        "accuracy(preds,y)"
      ],
      "execution_count": 26,
      "outputs": [
        {
          "output_type": "execute_result",
          "data": {
            "text/plain": [
              "tensor(0.2031)"
            ]
          },
          "metadata": {
            "tags": []
          },
          "execution_count": 26
        }
      ]
    },
    {
      "cell_type": "code",
      "metadata": {
        "id": "BdIgymyQ3uG2"
      },
      "source": [
        "loss_fn = F.cross_entropy"
      ],
      "execution_count": 27,
      "outputs": []
    },
    {
      "cell_type": "code",
      "metadata": {
        "id": "3tbKR5rL2ele"
      },
      "source": [
        "import torch.optim as Optim"
      ],
      "execution_count": 28,
      "outputs": []
    },
    {
      "cell_type": "code",
      "metadata": {
        "id": "CqvSVXOby7io"
      },
      "source": [
        "def fit(epochs,lr,train_dl,val_dl,model,loss_fn,optim_fn=Optim.SGD):\n",
        "  optimizer = optim_fn(model.parameters(),lr)\n",
        "\n",
        "  for epoch in range(epochs):\n",
        "    train_loss = []\n",
        "    train_acc = []\n",
        "    for xb,y in train_dl:\n",
        "      preds = model(xb)\n",
        "      loss = loss_fn(preds,y)\n",
        "      train_loss.append(loss)\n",
        "      acc = accuracy(preds,y)\n",
        "      train_acc.append(acc)\n",
        "      loss.backward()\n",
        "      optimizer.step()\n",
        "      optimizer.zero_grad()\n",
        "    avg_loss = torch.stack(train_loss).mean()\n",
        "    avg_acc = torch.stack(train_acc).mean()\n",
        "    print(\"Epoch [{}], train_loss: {:.4f}, train_acc: {:.4f}\".format(epoch, avg_loss,avg_acc))"
      ],
      "execution_count": 40,
      "outputs": []
    },
    {
      "cell_type": "code",
      "metadata": {
        "colab": {
          "base_uri": "https://localhost:8080/"
        },
        "id": "SnmNdqRQ5l5j",
        "outputId": "1178cb63-8f18-4e42-f578-40e41aa6d65b"
      },
      "source": [
        "mnist_model = to_device(MNISTLinear(),device=get_default_device())\n",
        "fit(10,lr=0.001,train_dl=train_dl,val_dl=val_dl,model=mnist_model,loss_fn=loss_fn)"
      ],
      "execution_count": 41,
      "outputs": [
        {
          "output_type": "stream",
          "text": [
            "Epoch [0], train_loss: 1.9514, train_acc: 0.5464\n",
            "Epoch [1], train_loss: 1.4778, train_acc: 0.7673\n",
            "Epoch [2], train_loss: 1.2085, train_acc: 0.7988\n",
            "Epoch [3], train_loss: 1.0434, train_acc: 0.8157\n",
            "Epoch [4], train_loss: 0.9338, train_acc: 0.8246\n",
            "Epoch [5], train_loss: 0.8557, train_acc: 0.8328\n",
            "Epoch [6], train_loss: 0.7971, train_acc: 0.8387\n",
            "Epoch [7], train_loss: 0.7515, train_acc: 0.8433\n",
            "Epoch [8], train_loss: 0.7144, train_acc: 0.8477\n",
            "Epoch [9], train_loss: 0.6840, train_acc: 0.8513\n"
          ],
          "name": "stdout"
        }
      ]
    },
    {
      "cell_type": "code",
      "metadata": {
        "id": "GsSfMeiL9Uql"
      },
      "source": [
        "class MNISTLinear2(NN.Module):\n",
        "  def __init__(self):\n",
        "    super().__init__()\n",
        "    self.linear= NN.Linear(input_size,32)\n",
        "    self.linear2 = NN.Linear(32,num_of_classes)\n",
        "  \n",
        "  def forward(self,xb):\n",
        "    xb = xb.view(xb.size(0),-1)\n",
        "    out = self.linear(xb)\n",
        "    out = F.relu(out)\n",
        "    out = self.linear2(out)\n",
        "    return out"
      ],
      "execution_count": 42,
      "outputs": []
    },
    {
      "cell_type": "code",
      "metadata": {
        "colab": {
          "base_uri": "https://localhost:8080/"
        },
        "id": "4HchsYtj9u5z",
        "outputId": "e0f6e8e7-3601-47a5-9c5a-46a6b5ba74d8"
      },
      "source": [
        "mnist_model = to_device(MNISTLinear2(),device=get_default_device())\n",
        "fit(10,lr=0.01,train_dl=train_dl,val_dl=val_dl,model=mnist_model,loss_fn=loss_fn)"
      ],
      "execution_count": 44,
      "outputs": [
        {
          "output_type": "stream",
          "text": [
            "Epoch [0], train_loss: 1.4147, train_acc: 0.6702\n",
            "Epoch [1], train_loss: 0.5767, train_acc: 0.8600\n",
            "Epoch [2], train_loss: 0.4353, train_acc: 0.8844\n",
            "Epoch [3], train_loss: 0.3845, train_acc: 0.8947\n",
            "Epoch [4], train_loss: 0.3571, train_acc: 0.9002\n",
            "Epoch [5], train_loss: 0.3394, train_acc: 0.9048\n",
            "Epoch [6], train_loss: 0.3265, train_acc: 0.9076\n",
            "Epoch [7], train_loss: 0.3159, train_acc: 0.9109\n",
            "Epoch [8], train_loss: 0.3071, train_acc: 0.9128\n",
            "Epoch [9], train_loss: 0.2991, train_acc: 0.9147\n"
          ],
          "name": "stdout"
        }
      ]
    },
    {
      "cell_type": "markdown",
      "metadata": {
        "id": "w8boTVkF-R2u"
      },
      "source": [
        "# Test against Validation Set"
      ]
    },
    {
      "cell_type": "code",
      "metadata": {
        "id": "ITy4PN9o-cz3"
      },
      "source": [
        "def evalute(model,)"
      ],
      "execution_count": null,
      "outputs": []
    }
  ]
}